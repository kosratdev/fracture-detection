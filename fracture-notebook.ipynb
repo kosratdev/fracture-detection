{
 "cells": [
  {
   "attachments": {},
   "cell_type": "markdown",
   "id": "15840f1b",
   "metadata": {},
   "source": [
    "# Detection and Classification of bone fracture Based on Machine Learning Techniques\n",
    "\n",
    "### Methodology \n",
    "1. Preprocessing\n",
    "    - **Median** Filter & **Gaussian** Filter for removing salt and pepper noise\n",
    "    - **Histogram equalization** used for Brightness, Darkness and Contrast Noise  \n",
    "2. Feature Extraction \n",
    "3. ML Algorithms\n",
    "4. Result & Accuracy \n"
   ]
  },
  {
   "cell_type": "markdown",
   "id": "2fbea574",
   "metadata": {},
   "source": [
    "# 1. Preprocessing"
   ]
  },
  {
   "cell_type": "code",
   "execution_count": null,
   "id": "32c6db73",
   "metadata": {},
   "outputs": [],
   "source": []
  }
 ],
 "metadata": {
  "kernelspec": {
   "display_name": "Python 3 (ipykernel)",
   "language": "python",
   "name": "python3"
  },
  "language_info": {
   "codemirror_mode": {
    "name": "ipython",
    "version": 3
   },
   "file_extension": ".py",
   "mimetype": "text/x-python",
   "name": "python",
   "nbconvert_exporter": "python",
   "pygments_lexer": "ipython3",
   "version": "3.8.12"
  }
 },
 "nbformat": 4,
 "nbformat_minor": 5
}
